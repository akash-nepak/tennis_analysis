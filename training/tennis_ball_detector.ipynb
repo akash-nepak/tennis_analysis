{
 "cells": [
  {
   "cell_type": "code",
   "execution_count": 1,
   "id": "f948e760",
   "metadata": {},
   "outputs": [
    {
     "name": "stdout",
     "output_type": "stream",
     "text": [
      "loading Roboflow workspace...\n",
      "loading Roboflow project...\n"
     ]
    },
    {
     "name": "stderr",
     "output_type": "stream",
     "text": [
      "Downloading Dataset Version Zip in tennis-ball-detection-1 to yolov5pytorch:: 100%|██████████| 52027/52027 [01:44<00:00, 496.87it/s]"
     ]
    },
    {
     "name": "stdout",
     "output_type": "stream",
     "text": [
      "\n"
     ]
    },
    {
     "name": "stderr",
     "output_type": "stream",
     "text": [
      "\n",
      "Extracting Dataset Version Zip to tennis-ball-detection-1 in yolov5pytorch:: 100%|██████████| 1168/1168 [00:00<00:00, 8967.72it/s]\n"
     ]
    }
   ],
   "source": [
    "\n",
    "\n",
    "from roboflow import Roboflow\n",
    "rf = Roboflow(api_key=\"TZqHzfk27XoP5J9kVtmo\")\n",
    "project = rf.workspace(\"akashnepak\").project(\"tennis-ball-detection-jus55\")\n",
    "version = project.version(1)\n",
    "dataset = version.download(\"yolov5\")\n",
    "                \n"
   ]
  },
  {
   "cell_type": "code",
   "execution_count": 3,
   "id": "968e849c",
   "metadata": {},
   "outputs": [],
   "source": [
    "from ultralytics import YOLO\n"
   ]
  },
  {
   "cell_type": "code",
   "execution_count": 7,
   "id": "b2f1915b",
   "metadata": {},
   "outputs": [
    {
     "name": "stdout",
     "output_type": "stream",
     "text": [
      "Dataset location: /home/akash-1/TENNIS_ANALYSIS/training/tennis-ball-detection-1\n",
      "Data.yaml exists: True\n",
      "Original data.yaml:\n",
      "{'names': ['tennis ball'], 'nc': 1, 'roboflow': {'license': 'CC BY 4.0', 'project': 'tennis-ball-detection-jus55', 'url': 'https://universe.roboflow.com/akashnepak/tennis-ball-detection-jus55/dataset/1', 'version': 1, 'workspace': 'akashnepak'}, 'test': '../test/images', 'train': 'tennis-ball-detection-1/train/images', 'val': 'tennis-ball-detection-1/valid/images'}\n",
      "\n",
      "Fixed data.yaml:\n",
      "{'names': ['tennis ball'], 'nc': 1, 'roboflow': {'license': 'CC BY 4.0', 'project': 'tennis-ball-detection-jus55', 'url': 'https://universe.roboflow.com/akashnepak/tennis-ball-detection-jus55/dataset/1', 'version': 1, 'workspace': 'akashnepak'}, 'test': '/home/akash-1/TENNIS_ANALYSIS/training/tennis-ball-detection-1/test/images', 'train': '/home/akash-1/TENNIS_ANALYSIS/training/tennis-ball-detection-1/train/images', 'val': '/home/akash-1/TENNIS_ANALYSIS/training/tennis-ball-detection-1/valid/images'}\n",
      "✅ data.yaml file has been corrected!\n"
     ]
    }
   ],
   "source": [
    "# Check and fix data.yaml file\n",
    "import os\n",
    "import yaml\n",
    "\n",
    "data_yaml_path = f'{dataset.location}/data.yaml'\n",
    "print(f\"Dataset location: {dataset.location}\")\n",
    "print(f\"Data.yaml exists: {os.path.exists(data_yaml_path)}\")\n",
    "\n",
    "# Read the current data.yaml\n",
    "with open(data_yaml_path, 'r') as f:\n",
    "    data_config = yaml.safe_load(f)\n",
    "\n",
    "print(\"Original data.yaml:\")\n",
    "print(data_config)\n",
    "\n",
    "# Fix the paths - remove the duplicate folder name\n",
    "base_path = dataset.location\n",
    "data_config['train'] = f'{base_path}/train/images'\n",
    "data_config['val'] = f'{base_path}/valid/images'\n",
    "data_config['test'] = f'{base_path}/test/images'\n",
    "\n",
    "print(\"\\nFixed data.yaml:\")\n",
    "print(data_config)\n",
    "\n",
    "# Write the corrected data.yaml\n",
    "with open(data_yaml_path, 'w') as f:\n",
    "    yaml.dump(data_config, f, default_flow_style=False)\n",
    "\n",
    "print(\"✅ data.yaml file has been corrected!\")"
   ]
  },
  {
   "cell_type": "code",
   "execution_count": 6,
   "id": "ebee69f2",
   "metadata": {},
   "outputs": [
    {
     "name": "stdout",
     "output_type": "stream",
     "text": [
      "Downloading https://github.com/ultralytics/assets/releases/download/v8.3.0/yolov8n.pt to 'yolov8n.pt'...\n",
      "100%|███████████████████████████████████████| 6.25M/6.25M [00:08<00:00, 761kB/s]\n",
      "100%|███████████████████████████████████████| 6.25M/6.25M [00:08<00:00, 761kB/s]\n",
      "Ultralytics 8.3.161 🚀 Python-3.11.3 torch-2.5.1 CUDA:0 (NVIDIA GeForce RTX 3050 Laptop GPU, 3806MiB)\n",
      "\u001b[34m\u001b[1mengine/trainer: \u001b[0magnostic_nms=False, amp=True, augment=False, auto_augment=randaugment, batch=16, bgr=0.0, box=7.5, cache=False, cfg=None, classes=None, close_mosaic=10, cls=0.5, conf=None, copy_paste=0.0, copy_paste_mode=flip, cos_lr=False, cutmix=0.0, data=/home/akash-1/TENNIS_ANALYSIS/training/tennis-ball-detection-1/data.yaml, degrees=0.0, deterministic=True, device=None, dfl=1.5, dnn=False, dropout=0.0, dynamic=False, embed=None, epochs=100, erasing=0.4, exist_ok=False, fliplr=0.5, flipud=0.0, format=torchscript, fraction=1.0, freeze=None, half=False, hsv_h=0.015, hsv_s=0.7, hsv_v=0.4, imgsz=640, int8=False, iou=0.7, keras=False, kobj=1.0, line_width=None, lr0=0.01, lrf=0.01, mask_ratio=4, max_det=300, mixup=0.0, mode=train, model=yolov8n.pt, momentum=0.937, mosaic=1.0, multi_scale=False, name=train3, nbs=64, nms=False, opset=None, optimize=False, optimizer=auto, overlap_mask=True, patience=100, perspective=0.0, plots=True, pose=12.0, pretrained=True, profile=False, project=None, rect=False, resume=False, retina_masks=False, save=True, save_conf=False, save_crop=False, save_dir=runs/detect/train3, save_frames=False, save_json=False, save_period=-1, save_txt=False, scale=0.5, seed=0, shear=0.0, show=False, show_boxes=True, show_conf=True, show_labels=True, simplify=True, single_cls=False, source=None, split=val, stream_buffer=False, task=detect, time=None, tracker=botsort.yaml, translate=0.1, val=True, verbose=True, vid_stride=1, visualize=False, warmup_bias_lr=0.1, warmup_epochs=3.0, warmup_momentum=0.8, weight_decay=0.0005, workers=8, workspace=None\n",
      "\n",
      "Traceback (most recent call last):\n",
      "  File \"/home/akash-1/anaconda3/lib/python3.11/site-packages/ultralytics/engine/trainer.py\", line 607, in get_dataset\n",
      "    data = check_det_dataset(self.args.data)\n",
      "           ^^^^^^^^^^^^^^^^^^^^^^^^^^^^^^^^^\n",
      "  File \"/home/akash-1/anaconda3/lib/python3.11/site-packages/ultralytics/data/utils.py\", line 463, in check_det_dataset\n",
      "    raise FileNotFoundError(m)\n",
      "FileNotFoundError: Dataset '/home/akash-1/TENNIS_ANALYSIS/training/tennis-ball-detection-1/data.yaml' images not found, missing path '/home/akash-1/TENNIS_ANALYSIS/training/tennis-ball-detection-1/tennis-ball-detection-1/valid/images'\n",
      "Note dataset download directory is '/home/akash-1/datasets'. You can update this in '/home/akash-1/.config/Ultralytics/settings.json'\n",
      "\n",
      "The above exception was the direct cause of the following exception:\n",
      "\n",
      "Traceback (most recent call last):\n",
      "  File \"/home/akash-1/anaconda3/bin/yolo\", line 8, in <module>\n",
      "    sys.exit(entrypoint())\n",
      "             ^^^^^^^^^^^^\n",
      "  File \"/home/akash-1/anaconda3/lib/python3.11/site-packages/ultralytics/cfg/__init__.py\", line 983, in entrypoint\n",
      "    getattr(model, mode)(**overrides)  # default args from model\n",
      "    ^^^^^^^^^^^^^^^^^^^^^^^^^^^^^^^^^\n",
      "  File \"/home/akash-1/anaconda3/lib/python3.11/site-packages/ultralytics/engine/model.py\", line 793, in train\n",
      "    self.trainer = (trainer or self._smart_load(\"trainer\"))(overrides=args, _callbacks=self.callbacks)\n",
      "                   ^^^^^^^^^^^^^^^^^^^^^^^^^^^^^^^^^^^^^^^^^^^^^^^^^^^^^^^^^^^^^^^^^^^^^^^^^^^^^^^^^^^\n",
      "  File \"/home/akash-1/anaconda3/lib/python3.11/site-packages/ultralytics/engine/trainer.py\", line 153, in __init__\n",
      "    self.data = self.get_dataset()\n",
      "                ^^^^^^^^^^^^^^^^^^\n",
      "  File \"/home/akash-1/anaconda3/lib/python3.11/site-packages/ultralytics/engine/trainer.py\", line 611, in get_dataset\n",
      "    raise RuntimeError(emojis(f\"Dataset '{clean_url(self.args.data)}' error ❌ {e}\")) from e\n",
      "RuntimeError: Dataset '/home/akash-1/TENNIS_ANALYSIS/training/tennis-ball-detection-1/data.yaml' error ❌ Dataset '/home/akash-1/TENNIS_ANALYSIS/training/tennis-ball-detection-1/data.yaml' images not found, missing path '/home/akash-1/TENNIS_ANALYSIS/training/tennis-ball-detection-1/tennis-ball-detection-1/valid/images'\n",
      "Note dataset download directory is '/home/akash-1/datasets'. You can update this in '/home/akash-1/.config/Ultralytics/settings.json'\n",
      "Ultralytics 8.3.161 🚀 Python-3.11.3 torch-2.5.1 CUDA:0 (NVIDIA GeForce RTX 3050 Laptop GPU, 3806MiB)\n",
      "\u001b[34m\u001b[1mengine/trainer: \u001b[0magnostic_nms=False, amp=True, augment=False, auto_augment=randaugment, batch=16, bgr=0.0, box=7.5, cache=False, cfg=None, classes=None, close_mosaic=10, cls=0.5, conf=None, copy_paste=0.0, copy_paste_mode=flip, cos_lr=False, cutmix=0.0, data=/home/akash-1/TENNIS_ANALYSIS/training/tennis-ball-detection-1/data.yaml, degrees=0.0, deterministic=True, device=None, dfl=1.5, dnn=False, dropout=0.0, dynamic=False, embed=None, epochs=100, erasing=0.4, exist_ok=False, fliplr=0.5, flipud=0.0, format=torchscript, fraction=1.0, freeze=None, half=False, hsv_h=0.015, hsv_s=0.7, hsv_v=0.4, imgsz=640, int8=False, iou=0.7, keras=False, kobj=1.0, line_width=None, lr0=0.01, lrf=0.01, mask_ratio=4, max_det=300, mixup=0.0, mode=train, model=yolov8n.pt, momentum=0.937, mosaic=1.0, multi_scale=False, name=train3, nbs=64, nms=False, opset=None, optimize=False, optimizer=auto, overlap_mask=True, patience=100, perspective=0.0, plots=True, pose=12.0, pretrained=True, profile=False, project=None, rect=False, resume=False, retina_masks=False, save=True, save_conf=False, save_crop=False, save_dir=runs/detect/train3, save_frames=False, save_json=False, save_period=-1, save_txt=False, scale=0.5, seed=0, shear=0.0, show=False, show_boxes=True, show_conf=True, show_labels=True, simplify=True, single_cls=False, source=None, split=val, stream_buffer=False, task=detect, time=None, tracker=botsort.yaml, translate=0.1, val=True, verbose=True, vid_stride=1, visualize=False, warmup_bias_lr=0.1, warmup_epochs=3.0, warmup_momentum=0.8, weight_decay=0.0005, workers=8, workspace=None\n",
      "\n",
      "Traceback (most recent call last):\n",
      "  File \"/home/akash-1/anaconda3/lib/python3.11/site-packages/ultralytics/engine/trainer.py\", line 607, in get_dataset\n",
      "    data = check_det_dataset(self.args.data)\n",
      "           ^^^^^^^^^^^^^^^^^^^^^^^^^^^^^^^^^\n",
      "  File \"/home/akash-1/anaconda3/lib/python3.11/site-packages/ultralytics/data/utils.py\", line 463, in check_det_dataset\n",
      "    raise FileNotFoundError(m)\n",
      "FileNotFoundError: Dataset '/home/akash-1/TENNIS_ANALYSIS/training/tennis-ball-detection-1/data.yaml' images not found, missing path '/home/akash-1/TENNIS_ANALYSIS/training/tennis-ball-detection-1/tennis-ball-detection-1/valid/images'\n",
      "Note dataset download directory is '/home/akash-1/datasets'. You can update this in '/home/akash-1/.config/Ultralytics/settings.json'\n",
      "\n",
      "The above exception was the direct cause of the following exception:\n",
      "\n",
      "Traceback (most recent call last):\n",
      "  File \"/home/akash-1/anaconda3/bin/yolo\", line 8, in <module>\n",
      "    sys.exit(entrypoint())\n",
      "             ^^^^^^^^^^^^\n",
      "  File \"/home/akash-1/anaconda3/lib/python3.11/site-packages/ultralytics/cfg/__init__.py\", line 983, in entrypoint\n",
      "    getattr(model, mode)(**overrides)  # default args from model\n",
      "    ^^^^^^^^^^^^^^^^^^^^^^^^^^^^^^^^^\n",
      "  File \"/home/akash-1/anaconda3/lib/python3.11/site-packages/ultralytics/engine/model.py\", line 793, in train\n",
      "    self.trainer = (trainer or self._smart_load(\"trainer\"))(overrides=args, _callbacks=self.callbacks)\n",
      "                   ^^^^^^^^^^^^^^^^^^^^^^^^^^^^^^^^^^^^^^^^^^^^^^^^^^^^^^^^^^^^^^^^^^^^^^^^^^^^^^^^^^^\n",
      "  File \"/home/akash-1/anaconda3/lib/python3.11/site-packages/ultralytics/engine/trainer.py\", line 153, in __init__\n",
      "    self.data = self.get_dataset()\n",
      "                ^^^^^^^^^^^^^^^^^^\n",
      "  File \"/home/akash-1/anaconda3/lib/python3.11/site-packages/ultralytics/engine/trainer.py\", line 611, in get_dataset\n",
      "    raise RuntimeError(emojis(f\"Dataset '{clean_url(self.args.data)}' error ❌ {e}\")) from e\n",
      "RuntimeError: Dataset '/home/akash-1/TENNIS_ANALYSIS/training/tennis-ball-detection-1/data.yaml' error ❌ Dataset '/home/akash-1/TENNIS_ANALYSIS/training/tennis-ball-detection-1/data.yaml' images not found, missing path '/home/akash-1/TENNIS_ANALYSIS/training/tennis-ball-detection-1/tennis-ball-detection-1/valid/images'\n",
      "Note dataset download directory is '/home/akash-1/datasets'. You can update this in '/home/akash-1/.config/Ultralytics/settings.json'\n"
     ]
    }
   ],
   "source": [
    "!yolo task=detect mode=train model=yolov8n.pt data={dataset.location}/data.yaml epochs=100 imgsz=640 batch=16"
   ]
  },
  {
   "cell_type": "code",
   "execution_count": null,
   "id": "bcf57908",
   "metadata": {},
   "outputs": [],
   "source": [
    "# Load the trained model and validate\n",
    "model = YOLO('runs/detect/train/weights/best.pt')\n",
    "\n",
    "# Validate the model\n",
    "results = model.val()\n",
    "\n",
    "# Test prediction on a sample image\n",
    "import glob\n",
    "test_images = glob.glob(f'{dataset.location}/test/images/*.jpg')\n",
    "if test_images:\n",
    "    sample_image = test_images[0]\n",
    "    results = model(sample_image)\n",
    "    results[0].show()  # Display results"
   ]
  }
 ],
 "metadata": {
  "kernelspec": {
   "display_name": "base",
   "language": "python",
   "name": "python3"
  },
  "language_info": {
   "codemirror_mode": {
    "name": "ipython",
    "version": 3
   },
   "file_extension": ".py",
   "mimetype": "text/x-python",
   "name": "python",
   "nbconvert_exporter": "python",
   "pygments_lexer": "ipython3",
   "version": "3.11.3"
  }
 },
 "nbformat": 4,
 "nbformat_minor": 5
}
